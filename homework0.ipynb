{
 "cells": [
  {
   "cell_type": "code",
   "execution_count": 1,
   "metadata": {},
   "outputs": [
    {
     "name": "stdout",
     "output_type": "stream",
     "text": [
      "Requirement already satisfied: pyarrow in c:\\python312\\lib\\site-packages (16.1.0)\n",
      "Requirement already satisfied: numpy>=1.16.6 in c:\\python312\\lib\\site-packages (from pyarrow) (1.26.4)\n"
     ]
    }
   ],
   "source": [
    "!pip install pyarrow"
   ]
  },
  {
   "cell_type": "code",
   "execution_count": 2,
   "metadata": {},
   "outputs": [
    {
     "data": {
      "text/plain": [
       "19"
      ]
     },
     "execution_count": 2,
     "metadata": {},
     "output_type": "execute_result"
    }
   ],
   "source": [
    "import pandas as pd\n",
    "\n",
    "df_jan = pd.read_parquet(\"yellow_tripdata_2023-01.parquet\")\n",
    "df_feb = pd.read_parquet(\"yellow_tripdata_2023-02.parquet\")\n",
    "df_feb.shape[1]"
   ]
  },
  {
   "cell_type": "code",
   "execution_count": 3,
   "metadata": {},
   "outputs": [
    {
     "data": {
      "text/plain": [
       "19"
      ]
     },
     "execution_count": 3,
     "metadata": {},
     "output_type": "execute_result"
    }
   ],
   "source": [
    "len(df_jan.columns)"
   ]
  },
  {
   "cell_type": "code",
   "execution_count": 4,
   "metadata": {},
   "outputs": [
    {
     "data": {
      "text/plain": [
       "array([ True,  True,  True,  True,  True,  True,  True,  True,  True,\n",
       "        True,  True,  True,  True,  True,  True,  True,  True,  True,\n",
       "       False])"
      ]
     },
     "execution_count": 4,
     "metadata": {},
     "output_type": "execute_result"
    }
   ],
   "source": [
    "df_jan.columns == df_feb.columns"
   ]
  },
  {
   "cell_type": "code",
   "execution_count": 5,
   "metadata": {},
   "outputs": [
    {
     "data": {
      "text/plain": [
       "Index(['VendorID', 'tpep_pickup_datetime', 'tpep_dropoff_datetime',\n",
       "       'passenger_count', 'trip_distance', 'RatecodeID', 'store_and_fwd_flag',\n",
       "       'PULocationID', 'DOLocationID', 'payment_type', 'fare_amount', 'extra',\n",
       "       'mta_tax', 'tip_amount', 'tolls_amount', 'improvement_surcharge',\n",
       "       'total_amount', 'congestion_surcharge', 'airport_fee'],\n",
       "      dtype='object')"
      ]
     },
     "execution_count": 5,
     "metadata": {},
     "output_type": "execute_result"
    }
   ],
   "source": [
    "df_jan.columns"
   ]
  },
  {
   "cell_type": "code",
   "execution_count": 6,
   "metadata": {},
   "outputs": [
    {
     "data": {
      "text/plain": [
       "Index(['VendorID', 'tpep_pickup_datetime', 'tpep_dropoff_datetime',\n",
       "       'passenger_count', 'trip_distance', 'RatecodeID', 'store_and_fwd_flag',\n",
       "       'PULocationID', 'DOLocationID', 'payment_type', 'fare_amount', 'extra',\n",
       "       'mta_tax', 'tip_amount', 'tolls_amount', 'improvement_surcharge',\n",
       "       'total_amount', 'congestion_surcharge', 'Airport_fee'],\n",
       "      dtype='object')"
      ]
     },
     "execution_count": 6,
     "metadata": {},
     "output_type": "execute_result"
    }
   ],
   "source": [
    "df_feb.columns"
   ]
  },
  {
   "cell_type": "code",
   "execution_count": 7,
   "metadata": {},
   "outputs": [],
   "source": [
    "df_feb.rename(columns={\"Airport_fee\": \"airport_fee\"}, inplace=True)"
   ]
  },
  {
   "cell_type": "code",
   "execution_count": 8,
   "metadata": {},
   "outputs": [
    {
     "data": {
      "text/plain": [
       "array([ True,  True,  True,  True,  True,  True,  True,  True,  True,\n",
       "        True,  True,  True,  True,  True,  True,  True,  True,  True,\n",
       "        True])"
      ]
     },
     "execution_count": 8,
     "metadata": {},
     "output_type": "execute_result"
    }
   ],
   "source": [
    "df_jan.columns == df_feb.columns"
   ]
  },
  {
   "cell_type": "code",
   "execution_count": 9,
   "metadata": {},
   "outputs": [
    {
     "data": {
      "text/plain": [
       "0"
      ]
     },
     "execution_count": 9,
     "metadata": {},
     "output_type": "execute_result"
    }
   ],
   "source": [
    "(\n",
    "    df_jan[\"tpep_pickup_datetime\"].isna().sum()\n",
    "    + df_feb[\"tpep_pickup_datetime\"].isna().sum()\n",
    ")"
   ]
  },
  {
   "cell_type": "code",
   "execution_count": 10,
   "metadata": {},
   "outputs": [
    {
     "data": {
      "text/plain": [
       "0"
      ]
     },
     "execution_count": 10,
     "metadata": {},
     "output_type": "execute_result"
    }
   ],
   "source": [
    "(\n",
    "    df_jan[\"tpep_dropoff_datetime\"].isna().sum()\n",
    "    + df_feb[\"tpep_dropoff_datetime\"].isna().sum()\n",
    ")"
   ]
  },
  {
   "cell_type": "code",
   "execution_count": 11,
   "metadata": {},
   "outputs": [
    {
     "data": {
      "text/plain": [
       "Timedelta('0 days 00:42:35.661074')"
      ]
     },
     "execution_count": 11,
     "metadata": {},
     "output_type": "execute_result"
    }
   ],
   "source": [
    "duration_all = df_jan[\"tpep_dropoff_datetime\"] - df_jan[\"tpep_pickup_datetime\"]\n",
    "duration_all.std()"
   ]
  },
  {
   "cell_type": "code",
   "execution_count": 12,
   "metadata": {},
   "outputs": [
    {
     "data": {
      "text/plain": [
       "DOLocationID    0\n",
       "PULocationID    0\n",
       "dtype: int64"
      ]
     },
     "execution_count": 12,
     "metadata": {},
     "output_type": "execute_result"
    }
   ],
   "source": [
    "(\n",
    "    df_jan[[\"DOLocationID\", \"PULocationID\"]].isna().sum()\n",
    "    + df_feb[[\"DOLocationID\", \"PULocationID\"]].isna().sum()\n",
    ")"
   ]
  },
  {
   "cell_type": "code",
   "execution_count": 13,
   "metadata": {},
   "outputs": [],
   "source": [
    "filtered_df = df_jan[\n",
    "    (\n",
    "        (df_jan[\"tpep_dropoff_datetime\"] - df_jan[\"tpep_pickup_datetime\"])\n",
    "        >= pd.Timedelta(minutes=1)\n",
    "    )\n",
    "    & (\n",
    "        (df_jan[\"tpep_dropoff_datetime\"] - df_jan[\"tpep_pickup_datetime\"])\n",
    "        <= pd.Timedelta(minutes=60)\n",
    "    )\n",
    "]\n",
    "\n",
    "filtered_df_val = df_feb[\n",
    "    (\n",
    "        (df_feb[\"tpep_dropoff_datetime\"] - df_feb[\"tpep_pickup_datetime\"])\n",
    "        >= pd.Timedelta(minutes=1)\n",
    "    )\n",
    "    & (\n",
    "        (df_feb[\"tpep_dropoff_datetime\"] - df_feb[\"tpep_pickup_datetime\"])\n",
    "        <= pd.Timedelta(minutes=60)\n",
    "    )\n",
    "]"
   ]
  },
  {
   "cell_type": "code",
   "execution_count": 14,
   "metadata": {},
   "outputs": [],
   "source": [
    "duration = filtered_df[\"tpep_dropoff_datetime\"] - filtered_df[\"tpep_pickup_datetime\"]\n",
    "duration_val = (\n",
    "    filtered_df_val[\"tpep_dropoff_datetime\"] - filtered_df_val[\"tpep_pickup_datetime\"]\n",
    ")"
   ]
  },
  {
   "cell_type": "code",
   "execution_count": 15,
   "metadata": {},
   "outputs": [
    {
     "data": {
      "text/plain": [
       "0         0 days 00:08:26\n",
       "1         0 days 00:06:19\n",
       "2         0 days 00:12:45\n",
       "3         0 days 00:09:37\n",
       "4         0 days 00:10:50\n",
       "                ...      \n",
       "3066761   0 days 00:13:59\n",
       "3066762   0 days 00:19:27\n",
       "3066763   0 days 00:24:31\n",
       "3066764   0 days 00:13:00\n",
       "3066765   0 days 00:14:24\n",
       "Length: 3009173, dtype: timedelta64[us]"
      ]
     },
     "execution_count": 15,
     "metadata": {},
     "output_type": "execute_result"
    }
   ],
   "source": [
    "duration"
   ]
  },
  {
   "cell_type": "code",
   "execution_count": 16,
   "metadata": {},
   "outputs": [
    {
     "data": {
      "text/plain": [
       "Timedelta('0 days 00:09:56.363137')"
      ]
     },
     "execution_count": 16,
     "metadata": {},
     "output_type": "execute_result"
    }
   ],
   "source": [
    "duration.std()"
   ]
  },
  {
   "cell_type": "code",
   "execution_count": 17,
   "metadata": {},
   "outputs": [
    {
     "data": {
      "text/plain": [
       "0.9812202822125979"
      ]
     },
     "execution_count": 17,
     "metadata": {},
     "output_type": "execute_result"
    }
   ],
   "source": [
    "len(duration) / len(duration_all)"
   ]
  },
  {
   "cell_type": "code",
   "execution_count": 18,
   "metadata": {},
   "outputs": [
    {
     "data": {
      "text/html": [
       "<div>\n",
       "<style scoped>\n",
       "    .dataframe tbody tr th:only-of-type {\n",
       "        vertical-align: middle;\n",
       "    }\n",
       "\n",
       "    .dataframe tbody tr th {\n",
       "        vertical-align: top;\n",
       "    }\n",
       "\n",
       "    .dataframe thead th {\n",
       "        text-align: right;\n",
       "    }\n",
       "</style>\n",
       "<table border=\"1\" class=\"dataframe\">\n",
       "  <thead>\n",
       "    <tr style=\"text-align: right;\">\n",
       "      <th></th>\n",
       "      <th>VendorID</th>\n",
       "      <th>tpep_pickup_datetime</th>\n",
       "      <th>tpep_dropoff_datetime</th>\n",
       "      <th>passenger_count</th>\n",
       "      <th>trip_distance</th>\n",
       "      <th>RatecodeID</th>\n",
       "      <th>store_and_fwd_flag</th>\n",
       "      <th>PULocationID</th>\n",
       "      <th>DOLocationID</th>\n",
       "      <th>payment_type</th>\n",
       "      <th>fare_amount</th>\n",
       "      <th>extra</th>\n",
       "      <th>mta_tax</th>\n",
       "      <th>tip_amount</th>\n",
       "      <th>tolls_amount</th>\n",
       "      <th>improvement_surcharge</th>\n",
       "      <th>total_amount</th>\n",
       "      <th>congestion_surcharge</th>\n",
       "      <th>airport_fee</th>\n",
       "    </tr>\n",
       "  </thead>\n",
       "  <tbody>\n",
       "    <tr>\n",
       "      <th>0</th>\n",
       "      <td>2</td>\n",
       "      <td>2023-01-01 00:32:10</td>\n",
       "      <td>2023-01-01 00:40:36</td>\n",
       "      <td>1.0</td>\n",
       "      <td>0.97</td>\n",
       "      <td>1.0</td>\n",
       "      <td>N</td>\n",
       "      <td>161</td>\n",
       "      <td>141</td>\n",
       "      <td>2</td>\n",
       "      <td>9.3</td>\n",
       "      <td>1.00</td>\n",
       "      <td>0.5</td>\n",
       "      <td>0.00</td>\n",
       "      <td>0.0</td>\n",
       "      <td>1.0</td>\n",
       "      <td>14.30</td>\n",
       "      <td>2.5</td>\n",
       "      <td>0.00</td>\n",
       "    </tr>\n",
       "    <tr>\n",
       "      <th>1</th>\n",
       "      <td>2</td>\n",
       "      <td>2023-01-01 00:55:08</td>\n",
       "      <td>2023-01-01 01:01:27</td>\n",
       "      <td>1.0</td>\n",
       "      <td>1.10</td>\n",
       "      <td>1.0</td>\n",
       "      <td>N</td>\n",
       "      <td>43</td>\n",
       "      <td>237</td>\n",
       "      <td>1</td>\n",
       "      <td>7.9</td>\n",
       "      <td>1.00</td>\n",
       "      <td>0.5</td>\n",
       "      <td>4.00</td>\n",
       "      <td>0.0</td>\n",
       "      <td>1.0</td>\n",
       "      <td>16.90</td>\n",
       "      <td>2.5</td>\n",
       "      <td>0.00</td>\n",
       "    </tr>\n",
       "    <tr>\n",
       "      <th>2</th>\n",
       "      <td>2</td>\n",
       "      <td>2023-01-01 00:25:04</td>\n",
       "      <td>2023-01-01 00:37:49</td>\n",
       "      <td>1.0</td>\n",
       "      <td>2.51</td>\n",
       "      <td>1.0</td>\n",
       "      <td>N</td>\n",
       "      <td>48</td>\n",
       "      <td>238</td>\n",
       "      <td>1</td>\n",
       "      <td>14.9</td>\n",
       "      <td>1.00</td>\n",
       "      <td>0.5</td>\n",
       "      <td>15.00</td>\n",
       "      <td>0.0</td>\n",
       "      <td>1.0</td>\n",
       "      <td>34.90</td>\n",
       "      <td>2.5</td>\n",
       "      <td>0.00</td>\n",
       "    </tr>\n",
       "    <tr>\n",
       "      <th>3</th>\n",
       "      <td>1</td>\n",
       "      <td>2023-01-01 00:03:48</td>\n",
       "      <td>2023-01-01 00:13:25</td>\n",
       "      <td>0.0</td>\n",
       "      <td>1.90</td>\n",
       "      <td>1.0</td>\n",
       "      <td>N</td>\n",
       "      <td>138</td>\n",
       "      <td>7</td>\n",
       "      <td>1</td>\n",
       "      <td>12.1</td>\n",
       "      <td>7.25</td>\n",
       "      <td>0.5</td>\n",
       "      <td>0.00</td>\n",
       "      <td>0.0</td>\n",
       "      <td>1.0</td>\n",
       "      <td>20.85</td>\n",
       "      <td>0.0</td>\n",
       "      <td>1.25</td>\n",
       "    </tr>\n",
       "    <tr>\n",
       "      <th>4</th>\n",
       "      <td>2</td>\n",
       "      <td>2023-01-01 00:10:29</td>\n",
       "      <td>2023-01-01 00:21:19</td>\n",
       "      <td>1.0</td>\n",
       "      <td>1.43</td>\n",
       "      <td>1.0</td>\n",
       "      <td>N</td>\n",
       "      <td>107</td>\n",
       "      <td>79</td>\n",
       "      <td>1</td>\n",
       "      <td>11.4</td>\n",
       "      <td>1.00</td>\n",
       "      <td>0.5</td>\n",
       "      <td>3.28</td>\n",
       "      <td>0.0</td>\n",
       "      <td>1.0</td>\n",
       "      <td>19.68</td>\n",
       "      <td>2.5</td>\n",
       "      <td>0.00</td>\n",
       "    </tr>\n",
       "  </tbody>\n",
       "</table>\n",
       "</div>"
      ],
      "text/plain": [
       "   VendorID tpep_pickup_datetime tpep_dropoff_datetime  passenger_count  \\\n",
       "0         2  2023-01-01 00:32:10   2023-01-01 00:40:36              1.0   \n",
       "1         2  2023-01-01 00:55:08   2023-01-01 01:01:27              1.0   \n",
       "2         2  2023-01-01 00:25:04   2023-01-01 00:37:49              1.0   \n",
       "3         1  2023-01-01 00:03:48   2023-01-01 00:13:25              0.0   \n",
       "4         2  2023-01-01 00:10:29   2023-01-01 00:21:19              1.0   \n",
       "\n",
       "   trip_distance  RatecodeID store_and_fwd_flag  PULocationID  DOLocationID  \\\n",
       "0           0.97         1.0                  N           161           141   \n",
       "1           1.10         1.0                  N            43           237   \n",
       "2           2.51         1.0                  N            48           238   \n",
       "3           1.90         1.0                  N           138             7   \n",
       "4           1.43         1.0                  N           107            79   \n",
       "\n",
       "   payment_type  fare_amount  extra  mta_tax  tip_amount  tolls_amount  \\\n",
       "0             2          9.3   1.00      0.5        0.00           0.0   \n",
       "1             1          7.9   1.00      0.5        4.00           0.0   \n",
       "2             1         14.9   1.00      0.5       15.00           0.0   \n",
       "3             1         12.1   7.25      0.5        0.00           0.0   \n",
       "4             1         11.4   1.00      0.5        3.28           0.0   \n",
       "\n",
       "   improvement_surcharge  total_amount  congestion_surcharge  airport_fee  \n",
       "0                    1.0         14.30                   2.5         0.00  \n",
       "1                    1.0         16.90                   2.5         0.00  \n",
       "2                    1.0         34.90                   2.5         0.00  \n",
       "3                    1.0         20.85                   0.0         1.25  \n",
       "4                    1.0         19.68                   2.5         0.00  "
      ]
     },
     "execution_count": 18,
     "metadata": {},
     "output_type": "execute_result"
    }
   ],
   "source": [
    "filtered_df.head()"
   ]
  },
  {
   "cell_type": "code",
   "execution_count": 19,
   "metadata": {},
   "outputs": [],
   "source": [
    "from sklearn.feature_extraction import DictVectorizer\n",
    "\n",
    "# convert location IDs to strings\n",
    "filtered_df = filtered_df.assign(PULocationID=filtered_df[\"PULocationID\"].astype(str))\n",
    "filtered_df = filtered_df.assign(DOLocationID=filtered_df[\"DOLocationID\"].astype(str))\n",
    "filtered_df_val = filtered_df_val.assign(\n",
    "    PULocationID=filtered_df_val[\"PULocationID\"].astype(str)\n",
    ")\n",
    "filtered_df_val = filtered_df_val.assign(\n",
    "    DOLocationID=filtered_df_val[\"DOLocationID\"].astype(str)\n",
    ")"
   ]
  },
  {
   "cell_type": "code",
   "execution_count": 20,
   "metadata": {},
   "outputs": [],
   "source": [
    "# combining to ensure all categories are known\n",
    "X_train = filtered_df[[\"PULocationID\", \"DOLocationID\"]]\n",
    "X_val = filtered_df_val[[\"PULocationID\", \"DOLocationID\"]]\n",
    "combined_dicts = pd.concat([X_train, X_val]).to_dict(orient=\"records\")\n",
    "\n",
    "vectorizer = DictVectorizer(sparse=True)\n",
    "vectorizer.fit(combined_dicts)  # Learn all features from combined data\n",
    "\n",
    "# Transform datasets separately\n",
    "X_train_vectorized = vectorizer.transform(X_train.to_dict(orient=\"records\"))\n",
    "X_val_vectorized = vectorizer.transform(X_val.to_dict(orient=\"records\"))"
   ]
  },
  {
   "cell_type": "code",
   "execution_count": 21,
   "metadata": {},
   "outputs": [
    {
     "name": "stdout",
     "output_type": "stream",
     "text": [
      "Feature names: ['DOLocationID=1' 'DOLocationID=10' 'DOLocationID=100' 'DOLocationID=101'\n",
      " 'DOLocationID=102' 'DOLocationID=105' 'DOLocationID=106'\n",
      " 'DOLocationID=107' 'DOLocationID=108' 'DOLocationID=109'\n",
      " 'DOLocationID=11' 'DOLocationID=111' 'DOLocationID=112'\n",
      " 'DOLocationID=113' 'DOLocationID=114' 'DOLocationID=115'\n",
      " 'DOLocationID=116' 'DOLocationID=117' 'DOLocationID=118'\n",
      " 'DOLocationID=119' 'DOLocationID=12' 'DOLocationID=120'\n",
      " 'DOLocationID=121' 'DOLocationID=122' 'DOLocationID=123'\n",
      " 'DOLocationID=124' 'DOLocationID=125' 'DOLocationID=126'\n",
      " 'DOLocationID=127' 'DOLocationID=128' 'DOLocationID=129'\n",
      " 'DOLocationID=13' 'DOLocationID=130' 'DOLocationID=131'\n",
      " 'DOLocationID=132' 'DOLocationID=133' 'DOLocationID=134'\n",
      " 'DOLocationID=135' 'DOLocationID=136' 'DOLocationID=137'\n",
      " 'DOLocationID=138' 'DOLocationID=139' 'DOLocationID=14'\n",
      " 'DOLocationID=140' 'DOLocationID=141' 'DOLocationID=142'\n",
      " 'DOLocationID=143' 'DOLocationID=144' 'DOLocationID=145'\n",
      " 'DOLocationID=146' 'DOLocationID=147' 'DOLocationID=148'\n",
      " 'DOLocationID=149' 'DOLocationID=15' 'DOLocationID=150'\n",
      " 'DOLocationID=151' 'DOLocationID=152' 'DOLocationID=153'\n",
      " 'DOLocationID=154' 'DOLocationID=155' 'DOLocationID=156'\n",
      " 'DOLocationID=157' 'DOLocationID=158' 'DOLocationID=159'\n",
      " 'DOLocationID=16' 'DOLocationID=160' 'DOLocationID=161'\n",
      " 'DOLocationID=162' 'DOLocationID=163' 'DOLocationID=164'\n",
      " 'DOLocationID=165' 'DOLocationID=166' 'DOLocationID=167'\n",
      " 'DOLocationID=168' 'DOLocationID=169' 'DOLocationID=17'\n",
      " 'DOLocationID=170' 'DOLocationID=171' 'DOLocationID=172'\n",
      " 'DOLocationID=173' 'DOLocationID=174' 'DOLocationID=175'\n",
      " 'DOLocationID=176' 'DOLocationID=177' 'DOLocationID=178'\n",
      " 'DOLocationID=179' 'DOLocationID=18' 'DOLocationID=180'\n",
      " 'DOLocationID=181' 'DOLocationID=182' 'DOLocationID=183'\n",
      " 'DOLocationID=184' 'DOLocationID=185' 'DOLocationID=186'\n",
      " 'DOLocationID=187' 'DOLocationID=188' 'DOLocationID=189'\n",
      " 'DOLocationID=19' 'DOLocationID=190' 'DOLocationID=191'\n",
      " 'DOLocationID=192' 'DOLocationID=193' 'DOLocationID=194'\n",
      " 'DOLocationID=195' 'DOLocationID=196' 'DOLocationID=197'\n",
      " 'DOLocationID=198' 'DOLocationID=2' 'DOLocationID=20' 'DOLocationID=200'\n",
      " 'DOLocationID=201' 'DOLocationID=202' 'DOLocationID=203'\n",
      " 'DOLocationID=204' 'DOLocationID=205' 'DOLocationID=206'\n",
      " 'DOLocationID=207' 'DOLocationID=208' 'DOLocationID=209'\n",
      " 'DOLocationID=21' 'DOLocationID=210' 'DOLocationID=211'\n",
      " 'DOLocationID=212' 'DOLocationID=213' 'DOLocationID=214'\n",
      " 'DOLocationID=215' 'DOLocationID=216' 'DOLocationID=217'\n",
      " 'DOLocationID=218' 'DOLocationID=219' 'DOLocationID=22'\n",
      " 'DOLocationID=220' 'DOLocationID=221' 'DOLocationID=222'\n",
      " 'DOLocationID=223' 'DOLocationID=224' 'DOLocationID=225'\n",
      " 'DOLocationID=226' 'DOLocationID=227' 'DOLocationID=228'\n",
      " 'DOLocationID=229' 'DOLocationID=23' 'DOLocationID=230'\n",
      " 'DOLocationID=231' 'DOLocationID=232' 'DOLocationID=233'\n",
      " 'DOLocationID=234' 'DOLocationID=235' 'DOLocationID=236'\n",
      " 'DOLocationID=237' 'DOLocationID=238' 'DOLocationID=239'\n",
      " 'DOLocationID=24' 'DOLocationID=240' 'DOLocationID=241'\n",
      " 'DOLocationID=242' 'DOLocationID=243' 'DOLocationID=244'\n",
      " 'DOLocationID=245' 'DOLocationID=246' 'DOLocationID=247'\n",
      " 'DOLocationID=248' 'DOLocationID=249' 'DOLocationID=25'\n",
      " 'DOLocationID=250' 'DOLocationID=251' 'DOLocationID=252'\n",
      " 'DOLocationID=253' 'DOLocationID=254' 'DOLocationID=255'\n",
      " 'DOLocationID=256' 'DOLocationID=257' 'DOLocationID=258'\n",
      " 'DOLocationID=259' 'DOLocationID=26' 'DOLocationID=260'\n",
      " 'DOLocationID=261' 'DOLocationID=262' 'DOLocationID=263'\n",
      " 'DOLocationID=264' 'DOLocationID=265' 'DOLocationID=27' 'DOLocationID=28'\n",
      " 'DOLocationID=29' 'DOLocationID=3' 'DOLocationID=30' 'DOLocationID=31'\n",
      " 'DOLocationID=32' 'DOLocationID=33' 'DOLocationID=34' 'DOLocationID=35'\n",
      " 'DOLocationID=36' 'DOLocationID=37' 'DOLocationID=38' 'DOLocationID=39'\n",
      " 'DOLocationID=4' 'DOLocationID=40' 'DOLocationID=41' 'DOLocationID=42'\n",
      " 'DOLocationID=43' 'DOLocationID=44' 'DOLocationID=45' 'DOLocationID=46'\n",
      " 'DOLocationID=47' 'DOLocationID=48' 'DOLocationID=49' 'DOLocationID=5'\n",
      " 'DOLocationID=50' 'DOLocationID=51' 'DOLocationID=52' 'DOLocationID=53'\n",
      " 'DOLocationID=54' 'DOLocationID=55' 'DOLocationID=56' 'DOLocationID=57'\n",
      " 'DOLocationID=58' 'DOLocationID=59' 'DOLocationID=6' 'DOLocationID=60'\n",
      " 'DOLocationID=61' 'DOLocationID=62' 'DOLocationID=63' 'DOLocationID=64'\n",
      " 'DOLocationID=65' 'DOLocationID=66' 'DOLocationID=67' 'DOLocationID=68'\n",
      " 'DOLocationID=69' 'DOLocationID=7' 'DOLocationID=70' 'DOLocationID=71'\n",
      " 'DOLocationID=72' 'DOLocationID=73' 'DOLocationID=74' 'DOLocationID=75'\n",
      " 'DOLocationID=76' 'DOLocationID=77' 'DOLocationID=78' 'DOLocationID=79'\n",
      " 'DOLocationID=8' 'DOLocationID=80' 'DOLocationID=81' 'DOLocationID=82'\n",
      " 'DOLocationID=83' 'DOLocationID=84' 'DOLocationID=85' 'DOLocationID=86'\n",
      " 'DOLocationID=87' 'DOLocationID=88' 'DOLocationID=89' 'DOLocationID=9'\n",
      " 'DOLocationID=90' 'DOLocationID=91' 'DOLocationID=92' 'DOLocationID=93'\n",
      " 'DOLocationID=94' 'DOLocationID=95' 'DOLocationID=96' 'DOLocationID=97'\n",
      " 'DOLocationID=98' 'DOLocationID=99' 'PULocationID=1' 'PULocationID=10'\n",
      " 'PULocationID=100' 'PULocationID=101' 'PULocationID=102'\n",
      " 'PULocationID=105' 'PULocationID=106' 'PULocationID=107'\n",
      " 'PULocationID=108' 'PULocationID=109' 'PULocationID=11'\n",
      " 'PULocationID=111' 'PULocationID=112' 'PULocationID=113'\n",
      " 'PULocationID=114' 'PULocationID=115' 'PULocationID=116'\n",
      " 'PULocationID=117' 'PULocationID=118' 'PULocationID=119'\n",
      " 'PULocationID=12' 'PULocationID=120' 'PULocationID=121'\n",
      " 'PULocationID=122' 'PULocationID=123' 'PULocationID=124'\n",
      " 'PULocationID=125' 'PULocationID=126' 'PULocationID=127'\n",
      " 'PULocationID=128' 'PULocationID=129' 'PULocationID=13'\n",
      " 'PULocationID=130' 'PULocationID=131' 'PULocationID=132'\n",
      " 'PULocationID=133' 'PULocationID=134' 'PULocationID=135'\n",
      " 'PULocationID=136' 'PULocationID=137' 'PULocationID=138'\n",
      " 'PULocationID=139' 'PULocationID=14' 'PULocationID=140'\n",
      " 'PULocationID=141' 'PULocationID=142' 'PULocationID=143'\n",
      " 'PULocationID=144' 'PULocationID=145' 'PULocationID=146'\n",
      " 'PULocationID=147' 'PULocationID=148' 'PULocationID=149'\n",
      " 'PULocationID=15' 'PULocationID=150' 'PULocationID=151'\n",
      " 'PULocationID=152' 'PULocationID=153' 'PULocationID=154'\n",
      " 'PULocationID=155' 'PULocationID=156' 'PULocationID=157'\n",
      " 'PULocationID=158' 'PULocationID=159' 'PULocationID=16'\n",
      " 'PULocationID=160' 'PULocationID=161' 'PULocationID=162'\n",
      " 'PULocationID=163' 'PULocationID=164' 'PULocationID=165'\n",
      " 'PULocationID=166' 'PULocationID=167' 'PULocationID=168'\n",
      " 'PULocationID=169' 'PULocationID=17' 'PULocationID=170'\n",
      " 'PULocationID=171' 'PULocationID=172' 'PULocationID=173'\n",
      " 'PULocationID=174' 'PULocationID=175' 'PULocationID=177'\n",
      " 'PULocationID=178' 'PULocationID=179' 'PULocationID=18'\n",
      " 'PULocationID=180' 'PULocationID=181' 'PULocationID=182'\n",
      " 'PULocationID=183' 'PULocationID=184' 'PULocationID=185'\n",
      " 'PULocationID=186' 'PULocationID=187' 'PULocationID=188'\n",
      " 'PULocationID=189' 'PULocationID=19' 'PULocationID=190'\n",
      " 'PULocationID=191' 'PULocationID=192' 'PULocationID=193'\n",
      " 'PULocationID=194' 'PULocationID=195' 'PULocationID=196'\n",
      " 'PULocationID=197' 'PULocationID=198' 'PULocationID=199' 'PULocationID=2'\n",
      " 'PULocationID=20' 'PULocationID=200' 'PULocationID=201'\n",
      " 'PULocationID=202' 'PULocationID=203' 'PULocationID=204'\n",
      " 'PULocationID=205' 'PULocationID=206' 'PULocationID=207'\n",
      " 'PULocationID=208' 'PULocationID=209' 'PULocationID=21'\n",
      " 'PULocationID=210' 'PULocationID=211' 'PULocationID=212'\n",
      " 'PULocationID=213' 'PULocationID=214' 'PULocationID=215'\n",
      " 'PULocationID=216' 'PULocationID=217' 'PULocationID=218'\n",
      " 'PULocationID=219' 'PULocationID=22' 'PULocationID=220'\n",
      " 'PULocationID=221' 'PULocationID=222' 'PULocationID=223'\n",
      " 'PULocationID=224' 'PULocationID=225' 'PULocationID=226'\n",
      " 'PULocationID=227' 'PULocationID=228' 'PULocationID=229'\n",
      " 'PULocationID=23' 'PULocationID=230' 'PULocationID=231'\n",
      " 'PULocationID=232' 'PULocationID=233' 'PULocationID=234'\n",
      " 'PULocationID=235' 'PULocationID=236' 'PULocationID=237'\n",
      " 'PULocationID=238' 'PULocationID=239' 'PULocationID=24'\n",
      " 'PULocationID=240' 'PULocationID=241' 'PULocationID=242'\n",
      " 'PULocationID=243' 'PULocationID=244' 'PULocationID=245'\n",
      " 'PULocationID=246' 'PULocationID=247' 'PULocationID=248'\n",
      " 'PULocationID=249' 'PULocationID=25' 'PULocationID=250'\n",
      " 'PULocationID=251' 'PULocationID=252' 'PULocationID=253'\n",
      " 'PULocationID=254' 'PULocationID=255' 'PULocationID=256'\n",
      " 'PULocationID=257' 'PULocationID=258' 'PULocationID=259'\n",
      " 'PULocationID=26' 'PULocationID=260' 'PULocationID=261'\n",
      " 'PULocationID=262' 'PULocationID=263' 'PULocationID=264'\n",
      " 'PULocationID=265' 'PULocationID=28' 'PULocationID=29' 'PULocationID=3'\n",
      " 'PULocationID=30' 'PULocationID=31' 'PULocationID=32' 'PULocationID=33'\n",
      " 'PULocationID=34' 'PULocationID=35' 'PULocationID=36' 'PULocationID=37'\n",
      " 'PULocationID=38' 'PULocationID=39' 'PULocationID=4' 'PULocationID=40'\n",
      " 'PULocationID=41' 'PULocationID=42' 'PULocationID=43' 'PULocationID=44'\n",
      " 'PULocationID=45' 'PULocationID=46' 'PULocationID=47' 'PULocationID=48'\n",
      " 'PULocationID=49' 'PULocationID=5' 'PULocationID=50' 'PULocationID=51'\n",
      " 'PULocationID=52' 'PULocationID=53' 'PULocationID=54' 'PULocationID=55'\n",
      " 'PULocationID=56' 'PULocationID=57' 'PULocationID=58' 'PULocationID=59'\n",
      " 'PULocationID=6' 'PULocationID=60' 'PULocationID=61' 'PULocationID=62'\n",
      " 'PULocationID=63' 'PULocationID=64' 'PULocationID=65' 'PULocationID=66'\n",
      " 'PULocationID=67' 'PULocationID=68' 'PULocationID=69' 'PULocationID=7'\n",
      " 'PULocationID=70' 'PULocationID=71' 'PULocationID=72' 'PULocationID=73'\n",
      " 'PULocationID=74' 'PULocationID=75' 'PULocationID=76' 'PULocationID=77'\n",
      " 'PULocationID=78' 'PULocationID=79' 'PULocationID=8' 'PULocationID=80'\n",
      " 'PULocationID=81' 'PULocationID=82' 'PULocationID=83' 'PULocationID=85'\n",
      " 'PULocationID=86' 'PULocationID=87' 'PULocationID=88' 'PULocationID=89'\n",
      " 'PULocationID=9' 'PULocationID=90' 'PULocationID=91' 'PULocationID=92'\n",
      " 'PULocationID=93' 'PULocationID=94' 'PULocationID=95' 'PULocationID=96'\n",
      " 'PULocationID=97' 'PULocationID=98']\n"
     ]
    }
   ],
   "source": [
    "print(\"Feature names:\", vectorizer.get_feature_names_out([X_train_vectorized]))"
   ]
  },
  {
   "cell_type": "code",
   "execution_count": 22,
   "metadata": {},
   "outputs": [
    {
     "data": {
      "text/plain": [
       "519"
      ]
     },
     "execution_count": 22,
     "metadata": {},
     "output_type": "execute_result"
    }
   ],
   "source": [
    "X_train_vectorized.shape[1]"
   ]
  },
  {
   "cell_type": "code",
   "execution_count": 23,
   "metadata": {},
   "outputs": [],
   "source": [
    "from sklearn.linear_model import LinearRegression\n",
    "from sklearn.metrics import mean_squared_error\n",
    "import numpy as np"
   ]
  },
  {
   "cell_type": "code",
   "execution_count": 24,
   "metadata": {},
   "outputs": [
    {
     "data": {
      "text/plain": [
       "0           8.433333\n",
       "1           6.316667\n",
       "2          12.750000\n",
       "3           9.616667\n",
       "4          10.833333\n",
       "             ...    \n",
       "3066761    13.983333\n",
       "3066762    19.450000\n",
       "3066763    24.516667\n",
       "3066764    13.000000\n",
       "3066765    14.400000\n",
       "Length: 3009173, dtype: float64"
      ]
     },
     "execution_count": 24,
     "metadata": {},
     "output_type": "execute_result"
    }
   ],
   "source": [
    "target = duration.dt.total_seconds() / 60.0\n",
    "target"
   ]
  },
  {
   "cell_type": "code",
   "execution_count": 25,
   "metadata": {},
   "outputs": [
    {
     "data": {
      "text/html": [
       "<style>#sk-container-id-1 {color: black;}#sk-container-id-1 pre{padding: 0;}#sk-container-id-1 div.sk-toggleable {background-color: white;}#sk-container-id-1 label.sk-toggleable__label {cursor: pointer;display: block;width: 100%;margin-bottom: 0;padding: 0.3em;box-sizing: border-box;text-align: center;}#sk-container-id-1 label.sk-toggleable__label-arrow:before {content: \"▸\";float: left;margin-right: 0.25em;color: #696969;}#sk-container-id-1 label.sk-toggleable__label-arrow:hover:before {color: black;}#sk-container-id-1 div.sk-estimator:hover label.sk-toggleable__label-arrow:before {color: black;}#sk-container-id-1 div.sk-toggleable__content {max-height: 0;max-width: 0;overflow: hidden;text-align: left;background-color: #f0f8ff;}#sk-container-id-1 div.sk-toggleable__content pre {margin: 0.2em;color: black;border-radius: 0.25em;background-color: #f0f8ff;}#sk-container-id-1 input.sk-toggleable__control:checked~div.sk-toggleable__content {max-height: 200px;max-width: 100%;overflow: auto;}#sk-container-id-1 input.sk-toggleable__control:checked~label.sk-toggleable__label-arrow:before {content: \"▾\";}#sk-container-id-1 div.sk-estimator input.sk-toggleable__control:checked~label.sk-toggleable__label {background-color: #d4ebff;}#sk-container-id-1 div.sk-label input.sk-toggleable__control:checked~label.sk-toggleable__label {background-color: #d4ebff;}#sk-container-id-1 input.sk-hidden--visually {border: 0;clip: rect(1px 1px 1px 1px);clip: rect(1px, 1px, 1px, 1px);height: 1px;margin: -1px;overflow: hidden;padding: 0;position: absolute;width: 1px;}#sk-container-id-1 div.sk-estimator {font-family: monospace;background-color: #f0f8ff;border: 1px dotted black;border-radius: 0.25em;box-sizing: border-box;margin-bottom: 0.5em;}#sk-container-id-1 div.sk-estimator:hover {background-color: #d4ebff;}#sk-container-id-1 div.sk-parallel-item::after {content: \"\";width: 100%;border-bottom: 1px solid gray;flex-grow: 1;}#sk-container-id-1 div.sk-label:hover label.sk-toggleable__label {background-color: #d4ebff;}#sk-container-id-1 div.sk-serial::before {content: \"\";position: absolute;border-left: 1px solid gray;box-sizing: border-box;top: 0;bottom: 0;left: 50%;z-index: 0;}#sk-container-id-1 div.sk-serial {display: flex;flex-direction: column;align-items: center;background-color: white;padding-right: 0.2em;padding-left: 0.2em;position: relative;}#sk-container-id-1 div.sk-item {position: relative;z-index: 1;}#sk-container-id-1 div.sk-parallel {display: flex;align-items: stretch;justify-content: center;background-color: white;position: relative;}#sk-container-id-1 div.sk-item::before, #sk-container-id-1 div.sk-parallel-item::before {content: \"\";position: absolute;border-left: 1px solid gray;box-sizing: border-box;top: 0;bottom: 0;left: 50%;z-index: -1;}#sk-container-id-1 div.sk-parallel-item {display: flex;flex-direction: column;z-index: 1;position: relative;background-color: white;}#sk-container-id-1 div.sk-parallel-item:first-child::after {align-self: flex-end;width: 50%;}#sk-container-id-1 div.sk-parallel-item:last-child::after {align-self: flex-start;width: 50%;}#sk-container-id-1 div.sk-parallel-item:only-child::after {width: 0;}#sk-container-id-1 div.sk-dashed-wrapped {border: 1px dashed gray;margin: 0 0.4em 0.5em 0.4em;box-sizing: border-box;padding-bottom: 0.4em;background-color: white;}#sk-container-id-1 div.sk-label label {font-family: monospace;font-weight: bold;display: inline-block;line-height: 1.2em;}#sk-container-id-1 div.sk-label-container {text-align: center;}#sk-container-id-1 div.sk-container {/* jupyter's `normalize.less` sets `[hidden] { display: none; }` but bootstrap.min.css set `[hidden] { display: none !important; }` so we also need the `!important` here to be able to override the default hidden behavior on the sphinx rendered scikit-learn.org. See: https://github.com/scikit-learn/scikit-learn/issues/21755 */display: inline-block !important;position: relative;}#sk-container-id-1 div.sk-text-repr-fallback {display: none;}</style><div id=\"sk-container-id-1\" class=\"sk-top-container\"><div class=\"sk-text-repr-fallback\"><pre>LinearRegression()</pre><b>In a Jupyter environment, please rerun this cell to show the HTML representation or trust the notebook. <br />On GitHub, the HTML representation is unable to render, please try loading this page with nbviewer.org.</b></div><div class=\"sk-container\" hidden><div class=\"sk-item\"><div class=\"sk-estimator sk-toggleable\"><input class=\"sk-toggleable__control sk-hidden--visually\" id=\"sk-estimator-id-1\" type=\"checkbox\" checked><label for=\"sk-estimator-id-1\" class=\"sk-toggleable__label sk-toggleable__label-arrow\">LinearRegression</label><div class=\"sk-toggleable__content\"><pre>LinearRegression()</pre></div></div></div></div></div>"
      ],
      "text/plain": [
       "LinearRegression()"
      ]
     },
     "execution_count": 25,
     "metadata": {},
     "output_type": "execute_result"
    }
   ],
   "source": [
    "model = LinearRegression()\n",
    "model.fit(X_train_vectorized, target)"
   ]
  },
  {
   "cell_type": "code",
   "execution_count": 26,
   "metadata": {},
   "outputs": [
    {
     "data": {
      "text/plain": [
       "array([11.52744385, 10.89786759, 11.32577815, ..., 11.73771364,\n",
       "       12.70533125, 11.54221663])"
      ]
     },
     "execution_count": 26,
     "metadata": {},
     "output_type": "execute_result"
    }
   ],
   "source": [
    "predictions = model.predict(X_train_vectorized)\n",
    "predictions"
   ]
  },
  {
   "cell_type": "code",
   "execution_count": 27,
   "metadata": {},
   "outputs": [
    {
     "name": "stdout",
     "output_type": "stream",
     "text": [
      "RMSE on the training data: 7.6492619310517975\n"
     ]
    }
   ],
   "source": [
    "# Calculate RMSE on train\n",
    "rmse = np.sqrt(mean_squared_error(target, predictions))\n",
    "print(\"RMSE on the training data:\", rmse)"
   ]
  },
  {
   "cell_type": "code",
   "execution_count": 28,
   "metadata": {},
   "outputs": [],
   "source": [
    "predictions_val = model.predict(X_val_vectorized)\n",
    "target_val = duration_val.dt.total_seconds() / 60.0"
   ]
  },
  {
   "cell_type": "code",
   "execution_count": 29,
   "metadata": {},
   "outputs": [
    {
     "data": {
      "text/plain": [
       "array([11.36782977, 49.69480593, 15.18872621, ..., 13.53316151,\n",
       "       11.09582578, 13.15710349])"
      ]
     },
     "execution_count": 29,
     "metadata": {},
     "output_type": "execute_result"
    }
   ],
   "source": [
    "predictions_val"
   ]
  },
  {
   "cell_type": "code",
   "execution_count": 30,
   "metadata": {},
   "outputs": [
    {
     "name": "stdout",
     "output_type": "stream",
     "text": [
      "RMSE on the training data: 7.811821290624478\n"
     ]
    }
   ],
   "source": [
    "# Calculate RMSE on validation\n",
    "rmse_val = np.sqrt(mean_squared_error(target_val, predictions_val))\n",
    "print(\"RMSE on the training data:\", rmse_val)"
   ]
  }
 ],
 "metadata": {
  "kernelspec": {
   "display_name": "Python 3",
   "language": "python",
   "name": "python3"
  },
  "language_info": {
   "codemirror_mode": {
    "name": "ipython",
    "version": 3
   },
   "file_extension": ".py",
   "mimetype": "text/x-python",
   "name": "python",
   "nbconvert_exporter": "python",
   "pygments_lexer": "ipython3",
   "version": "3.11.6"
  }
 },
 "nbformat": 4,
 "nbformat_minor": 2
}
